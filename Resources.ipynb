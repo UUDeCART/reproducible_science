{
 "cells": [
  {
   "cell_type": "markdown",
   "metadata": {},
   "source": [
    "# Research Reproducibility Resources\n",
    "up-to-date as of July 2017"
   ]
  },
  {
   "cell_type": "markdown",
   "metadata": {},
   "source": [
    "## Guides\n",
    "\n",
    "* [Initial Steps toward Reproducible Research](http://kbroman.org/steps2rr/)\n",
    "* [Reproducibility of Research](http://campusguides.lib.utah.edu/reproducibility/)\n",
    "* [Data and Data Sets](http://campusguides.lib.utah.edu/dataanddatasets)\n",
    "* [Data best practices](https://library.stanford.edu/research/data-management-services/data-best-practices)\n",
    "* [Scholarly Publishing](http://campusguides.lib.utah.edu/sb.php?subject_id=54829)"
   ]
  },
  {
   "cell_type": "markdown",
   "metadata": {},
   "source": [
    "## University of Utah\n",
    "\n",
    "* [Research Handbook](http://osp.utah.edu/policies/handbook/)\n",
    "* [Research Policies](http://regulations.utah.edu/research/)\n",
    "* [IT Rules](http://regulations.utah.edu/it/rules/)"
   ]
  },
  {
   "cell_type": "markdown",
   "metadata": {},
   "source": [
    "## Select Articles\n",
    "\n",
    "* [Why Most Published Research Findings Are False](http://journals.plos.org/plosmedicine/article?id=10.1371/journal.pmed.0020124)\n",
    "* [How to Make More Published Research True](http://journals.plos.org/plosmedicine/article?id=10.1371/journal.pmed.1001747) \n",
    "* [What does research reproducibility mean?](https://login.ezproxy.lib.utah.edu/login?url=http://stm.sciencemag.org/content/8/341/341ps12) \n",
    "* [Reproducibility2020: Progress and priorities](http://dx.doi.org/10.12688/f1000research.11334.1)\n",
    "* [Nature Special: Challenges in irreproducible research](https://login.ezproxy.lib.utah.edu/login?url=http://www.nature.com/news/reproducibility-1.17552)\n",
    "* [Science Isn't Broken](https://fivethirtyeight.com/features/science-isnt-broken/#part1)"
   ]
  },
  {
   "cell_type": "markdown",
   "metadata": {},
   "source": [
    "## Select Books\n",
    "\n",
    "* [Reproducible Research with R and RStudio](https://github.com/christophergandrud/Rep-Res-Book)\n",
    "* [Implementing Reproducible Research](https://osf.io/s9tya/)\n",
    "* [Rigor Mortis](https://www.amazon.com/dp/B01K3WN72C) --unavailable open access"
   ]
  },
  {
   "cell_type": "markdown",
   "metadata": {},
   "source": [
    "## Initiatives to Follow \n",
    "\n",
    "* [Center for Open Science](https://cos.io/) \n",
    "* [Reproducible Science](https://reproduciblescience.org/) --NYU/UW/BIDS \n",
    "* [o2r](http://o2r.info/)\n",
    "* [rOpenSci](https://ropensci.org/)\n",
    "* [Researchobject.org](http://www.researchobject.org/)\n",
    "* [Retraction Watch](http://retractionwatch.com/)\n",
    "* [The NIH Common Fund](https://commonfund.nih.gov/bd2k) "
   ]
  },
  {
   "cell_type": "markdown",
   "metadata": {},
   "source": [
    "## Additional Learning Opportunities\n",
    "* Research Reproducibility Grand Rounds: weekly starting 9/12/17\n",
    "* UtahRR18 Conference: June 2018\n",
    "* NIH [Training Modules and Online Course](https://www.nih.gov/research-training/rigor-reproducibility/training)\n",
    "* Johns Hopkins Coursera MOOC on [Reproducible Research](https://www.coursera.org/learn/reproducible-research)\n",
    "* BITSS 2017 [Research Transparency and Reproducibility Training (RT2)](https://osf.io/tpd84/)\n",
    "* DataONE [Education Modules](https://www.dataone.org/education-modules)\n",
    "* [Python Conferences](https://conference.scipy.org/)\n",
    "* [R Conferences](https://www.r-project.org/conferences.html)"
   ]
  },
  {
   "cell_type": "markdown",
   "metadata": {},
   "source": [
    "## Additional Lists of Resources\n",
    "* From Karl Broman's [Tools for Reproducible Research](http://kbroman.org/Tools4RR/pages/resources.html) course"
   ]
  }
 ],
 "metadata": {
  "kernelspec": {
   "display_name": "Python 3",
   "language": "python",
   "name": "python3"
  },
  "language_info": {
   "codemirror_mode": {
    "name": "ipython",
    "version": 3
   },
   "file_extension": ".py",
   "mimetype": "text/x-python",
   "name": "python",
   "nbconvert_exporter": "python",
   "pygments_lexer": "ipython3",
   "version": "3.5.2"
  }
 },
 "nbformat": 4,
 "nbformat_minor": 2
}
