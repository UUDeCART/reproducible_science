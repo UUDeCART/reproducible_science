{
 "cells": [
  {
   "cell_type": "markdown",
   "metadata": {},
   "source": [
    "# Research Reproducibility Resources\n",
    "up-to-date as of July 2017"
   ]
  },
  {
   "cell_type": "markdown",
   "metadata": {},
   "source": [
    "## Guides\n",
    "\n",
    "* [Initial Steps toward Reproducible Research](http://kbroman.org/steps2rr/)\n",
    "* [Reproducibility of Research](http://campusguides.lib.utah.edu/reproducibility/)\n",
    "* [Data and Data Sets](http://campusguides.lib.utah.edu/dataanddatasets)\n",
    "* [Data best practices](https://library.stanford.edu/research/data-management-services/data-best-practices)"
   ]
  },
  {
   "cell_type": "markdown",
   "metadata": {},
   "source": [
    "## Select Articles\n",
    "\n",
    "* Ioannidis\n",
    "* Goodman "
   ]
  },
  {
   "cell_type": "markdown",
   "metadata": {},
   "source": [
    "## Select Books\n",
    "\n",
    "* Reproducible Research with R and RStudio\n",
    "* Implementing Reproducible Research\n",
    "* Rigor Mortis "
   ]
  },
  {
   "cell_type": "markdown",
   "metadata": {},
   "source": [
    "## Initiatives to Follow \n",
    "\n",
    "* Open Science Collaboration \n",
    "* o2r.info \n",
    "* rOpenSci \n",
    "* [Retraction Watch](http://retractionwatch.com/)"
   ]
  },
  {
   "cell_type": "markdown",
   "metadata": {},
   "source": [
    "## Additional Learning Opportunities\n",
    "\n",
    "* Research Reproducibility Grand Rounds: weekly starting 9/12/17\n",
    "* UtahRR18 Conference: June 2018\n",
    "* [BITSS 2017 Research Transparency and Reproducibility Training (RT2)](https://osf.io/tpd84/)\n",
    "* useR Conference\n",
    "* Coursera "
   ]
  }
 ],
 "metadata": {
  "kernelspec": {
   "display_name": "Python 3",
   "language": "python",
   "name": "python3"
  },
  "language_info": {
   "codemirror_mode": {
    "name": "ipython",
    "version": 3
   },
   "file_extension": ".py",
   "mimetype": "text/x-python",
   "name": "python",
   "nbconvert_exporter": "python",
   "pygments_lexer": "ipython3",
   "version": "3.5.2"
  }
 },
 "nbformat": 4,
 "nbformat_minor": 2
}
