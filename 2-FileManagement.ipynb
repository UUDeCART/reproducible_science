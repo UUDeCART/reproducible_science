{
 "cells": [
  {
   "cell_type": "markdown",
   "metadata": {
    "slideshow": {
     "slide_type": "slide"
    }
   },
   "source": [
    "# Module 2: File Management (1 hour)\n",
    "\n",
    "From \"[Piled Higher and Deeper](http://www.phdcomics.com)\" by Jorge Cham\n",
    "<img alt=\"filenaming\" src=\"http://www.phdcomics.com/comics/archive/phd101212s.gif\" width=\"400px\" />"
   ]
  },
  {
   "cell_type": "markdown",
   "metadata": {
    "slideshow": {
     "slide_type": "slide"
    }
   },
   "source": [
    "## Organizing Projects\n",
    "This section draws from Karl Broman's [steps toward reproducible research](http://kbroman.org/steps2rr/pages/organize.html)\n",
    "\n",
    "* Encapsulate everything in one directory\n",
    "* Separate raw data from derived data\n",
    "* Separate the data from the code \n",
    "* Use relative paths\n",
    "* Choose file names carefully -- more on that in the following section\n",
    "* Avoid using \"final\" in a file name\n",
    "* Write README files\n",
    "\n",
    "### Exercise\n",
    "Inventory what project files you have. "
   ]
  },
  {
   "cell_type": "markdown",
   "metadata": {
    "slideshow": {
     "slide_type": "slide"
    }
   },
   "source": [
    "## File Naming\n",
    "This section draws from Stanford Library's [data best practices](https://library.stanford.edu/research/data-management-services/data-best-practices/best-practices-file-naming)\n",
    "\n",
    "### Basic Information\n",
    "\n",
    "* Project or experiment name or acronym\n",
    "* Location/spatial coordinates\n",
    "* Researcher name/initials\n",
    "* Date or date range of experiment\n",
    "* Type of data\n",
    "* Conditions\n",
    "* Version number of file\n",
    "* Three-letter file extension for application-specific files"
   ]
  },
  {
   "cell_type": "markdown",
   "metadata": {
    "slideshow": {
     "slide_type": "subslide"
    }
   },
   "source": [
    "### Tips\n",
    "* For dates, use YYYYMMDD or YYMMDD.\n",
    "* Keep the file names short! \n",
    "* Avoid special characters. \n",
    "* When numbering, use leading zeros. \n",
    "* Do not use spaces. \n",
    "* Do use underscores, dashes, or CamelCase.\n",
    "\n",
    "### Exercise\n",
    "\n",
    "1. For a particular project, decide on a naming convention and follow it. "
   ]
  },
  {
   "cell_type": "markdown",
   "metadata": {
    "slideshow": {
     "slide_type": "slide"
    }
   },
   "source": [
    "## File Formats"
   ]
  },
  {
   "cell_type": "markdown",
   "metadata": {
    "slideshow": {
     "slide_type": "slide"
    }
   },
   "source": [
    "## Version Control and Provenance"
   ]
  },
  {
   "cell_type": "markdown",
   "metadata": {
    "slideshow": {
     "slide_type": "slide"
    }
   },
   "source": [
    "## Storage and Backup Options"
   ]
  },
  {
   "cell_type": "markdown",
   "metadata": {
    "slideshow": {
     "slide_type": "slide"
    }
   },
   "source": [
    "## Exercise\n",
    "Create a README file for a project you are working on. Suggestions (taken from [Wikipedia](https://en.wikipedia.org/wiki/README)): \n",
    "* Configuration instructions\n",
    "* Installation instructions\n",
    "* Operating instructions\n",
    "* A file manifest (list of files included)\n",
    "* Copyright and licensing information\n",
    "* Contact information for the distributor or programmer\n",
    "* Known bugs and troubleshooting\n",
    "* Credits and acknowledgments\n",
    "* A changelog (usually for programmers)\n",
    "\n",
    "**Extra Reading for Fun**: Manes S. [README? Sure--before I buy!](http://search.ebscohost.com/login.aspx?direct=true&AuthType=ip,uid&db=aph&bquery=JN+%26quot%3bPCWorld%26quot%3b+AND+DT+19961101+AND+readme&type=1&site=ehost-live). PCWorld [serial on the Internet]. (1996, Nov), [cited July 13, 2017]: 366. Available from: Academic Search Premier."
   ]
  }
 ],
 "metadata": {
  "celltoolbar": "Slideshow",
  "kernelspec": {
   "display_name": "Python 3",
   "language": "python",
   "name": "python3"
  },
  "language_info": {
   "codemirror_mode": {
    "name": "ipython",
    "version": 3
   },
   "file_extension": ".py",
   "mimetype": "text/x-python",
   "name": "python",
   "nbconvert_exporter": "python",
   "pygments_lexer": "ipython3",
   "version": "3.5.2"
  }
 },
 "nbformat": 4,
 "nbformat_minor": 2
}
