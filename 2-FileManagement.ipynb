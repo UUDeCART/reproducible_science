{
 "cells": [
  {
   "cell_type": "markdown",
   "metadata": {
    "slideshow": {
     "slide_type": "slide"
    }
   },
   "source": [
    "# Module 2: File Management (1 hour)\n",
    "\n",
    "From \"[Piled Higher and Deeper](http://phdcomics.com/comics/archive.php?comicid=1531)\" by Jorge Cham\n",
    "<img alt=\"filenaming\" src=\"http://www.phdcomics.com/comics/archive/phd101212s.gif\" width=\"500px\" />"
   ]
  },
  {
   "cell_type": "markdown",
   "metadata": {
    "slideshow": {
     "slide_type": "slide"
    }
   },
   "source": [
    "## Organizing Projects\n",
    "This section draws from Karl Broman's [steps toward reproducible research](http://kbroman.org/steps2rr/pages/organize.html)\n",
    "\n",
    "* Encapsulate everything in one directory\n",
    "* Separate raw data from derived data\n",
    "* Separate the data from the code \n",
    "* Use relative paths\n",
    "* Choose file names carefully -- more on that in the following section\n",
    "* Avoid using \"final\" in a file name\n",
    "* Write README files"
   ]
  },
  {
   "cell_type": "markdown",
   "metadata": {
    "slideshow": {
     "slide_type": "slide"
    }
   },
   "source": [
    "## File Naming\n",
    "This section draws from Stanford Library's [data best practices](https://library.stanford.edu/research/data-management-services/data-best-practices/best-practices-file-naming)\n",
    "\n",
    "### Basic Information\n",
    "\n",
    "* Project or experiment name or acronym\n",
    "* Location/spatial coordinates\n",
    "* Researcher name/initials\n",
    "* Date or date range of experiment\n",
    "* Type of data\n",
    "* Conditions\n",
    "* Version number of file\n",
    "* Three-letter file extension for application-specific files"
   ]
  },
  {
   "cell_type": "markdown",
   "metadata": {
    "slideshow": {
     "slide_type": "subslide"
    }
   },
   "source": [
    "### Tips\n",
    "* For dates, use YYYYMMDD or YYMMDD.\n",
    "* Keep the file names short! \n",
    "* Avoid special characters. \n",
    "* When numbering, use leading zeros. \n",
    "* Do not use spaces. \n",
    "* Do use underscores, dashes, or CamelCase."
   ]
  },
  {
   "cell_type": "markdown",
   "metadata": {
    "slideshow": {
     "slide_type": "fragment"
    }
   },
   "source": [
    "### Example \n",
    "\n",
    "http://bit.ly/naming_exemplar"
   ]
  },
  {
   "cell_type": "markdown",
   "metadata": {
    "slideshow": {
     "slide_type": "slide"
    }
   },
   "source": [
    "## File Formats\n",
    "This section draws from Stanford Library's [data best practices](https://library.stanford.edu/research/data-management-services/data-best-practices/best-practices-file-formats)\n",
    "\n",
    "### Discussion\n",
    "* What formats are you saving your files as? \n",
    "* Are they proprietary or open formats? \n",
    "* How does this affect your ability to read the file in the future? \n",
    "* Can you think of an example when proprietary is the better option? "
   ]
  },
  {
   "cell_type": "markdown",
   "metadata": {
    "slideshow": {
     "slide_type": "subslide"
    }
   },
   "source": [
    "### Some preferred file formats\n",
    "\n",
    "* Containers: TAR, GZIP, ZIP\n",
    "* Databases: XML, CSV\n",
    "* Geospatial: SHP, DBF, GeoTIFF, NetCDF\n",
    "* Moving images: MOV, MPEG, AVI, MXF\n",
    "* Sounds: WAVE, AIFF, MP3, MXF\n",
    "* Statistics: ASCII, DTA, POR, SAS, SAV\n",
    "* Still images: TIFF, JPEG 2000, PDF, PNG, GIF, BMP\n",
    "* Tabular data: CSV\n",
    "* Text: XML, PDF/A, HTML, ASCII, UTF-8\n",
    "* Web archive: WARC"
   ]
  },
  {
   "cell_type": "markdown",
   "metadata": {
    "slideshow": {
     "slide_type": "slide"
    }
   },
   "source": [
    "## Data Provenance and Version Control"
   ]
  },
  {
   "cell_type": "markdown",
   "metadata": {
    "slideshow": {
     "slide_type": "fragment"
    }
   },
   "source": [
    "### What is provenance? \n",
    "This section draws from the Wikipedia article [Provenance](https://en.wikipedia.org/wiki/Provenance).\n",
    "> **Provenance** is the chronology of the ownership, custody or location of a historical object. The primary purpose of tracing the provenance of an object or entity is normally to provide contextual and circumstantial evidence for its original production or discovery, by establishing, as far as practicable, its later history, especially the sequences of its formal ownership, custody, and places of storage. [E]stablishing provenance is essentially a matter of documentation. "
   ]
  },
  {
   "cell_type": "markdown",
   "metadata": {
    "slideshow": {
     "slide_type": "subslide"
    }
   },
   "source": [
    "### What is data provenance? \n",
    "This section draws from the Wikipedia article [Data lineage](https://en.wikipedia.org/wiki/Data_lineage).\n",
    "> Data lineage includes the data's origins, what happens to it and where it moves over time. **Data provenance** documents the inputs, entities, systems, and processes that influence data of interest, in effect providing a historical record of the data and its origins. The generated evidence supports essential forensic activities such as data-dependency analysis, error/compromise detection and recovery, and auditing and compliance analysis. \"*Lineage* is a simple type of *why provenance*.\""
   ]
  },
  {
   "cell_type": "markdown",
   "metadata": {
    "slideshow": {
     "slide_type": "subslide"
    }
   },
   "source": [
    "### How is version control related to provenance? \n",
    "It's part of documentation! \n",
    "\n",
    "<img src=\"https://guides.github.com/activities/hello-world/branching.png\" alt=\"github\" />\n",
    "From [GitHub Guides: Hello World](https://guides.github.com/activities/hello-world/)"
   ]
  },
  {
   "cell_type": "markdown",
   "metadata": {
    "slideshow": {
     "slide_type": "slide"
    }
   },
   "source": [
    "## Storage/Backup/Archive/Preservation"
   ]
  },
  {
   "cell_type": "markdown",
   "metadata": {
    "slideshow": {
     "slide_type": "fragment"
    }
   },
   "source": [
    "### Definitions\n",
    "This section draws from DataONE's [Education Module Lesson 6](https://www.dataone.org/sites/all/documents/education-modules/handouts/L06_DataProtection_Handout.pdf).\n",
    "\n",
    "* **Storage**: the medium you're using to keep your active files, backups, and archives (e.g. hard drive, flash drive, CD/DVD, magnetic tape, cloud)\n",
    "* **Backup**: periodic snapshots of current version; stored for short or near-long-term; often done on a somewhat frequent schedule  \n",
    "* **Archive**: final version for historical reference or disasters; stored for long-term; created at end of project or at major \n",
    "milestone\n",
    "* **Preservation**: Includes backups and archiving as well as processes such as data conversion, reformatting, and rescue."
   ]
  },
  {
   "cell_type": "markdown",
   "metadata": {
    "slideshow": {
     "slide_type": "subslide"
    }
   },
   "source": [
    "### Cloud Storage Options at The University of Utah\n",
    "<table>\n",
    "<tr>\n",
    "    <td><a href=\"http://box.utah.edu/\"><img src=\"http://box.utah.edu/_images/ubox-logo.png\" width=\"250\" /></a></td>\n",
    "    <td><a href=\"http://gcloud.utah.edu/\"><img src=\"http://gcloud.utah.edu/_images/logo-google-apps.png\" width=\"250\" /></a></td>\n",
    "    <td><a href=\"https://redcap01.brisc.utah.edu/ccts/redcap/\"><img src=\"https://redcap01.brisc.utah.edu/ccts/redcap/redcap_v7.0.19/Resources/images/redcap-logo-large.png\" width=\"250\" /></a></td>\n",
    "    <td><a href=\"http://campusguides.lib.utah.edu/labarchives\"><img src=\"https://www.labarchives.com/wp-content/uploads/2015/06/LA_2ColorLogo.png\" width=\"250\" /></a></td>\n",
    "</tr>\n",
    "</table>"
   ]
  },
  {
   "cell_type": "markdown",
   "metadata": {
    "slideshow": {
     "slide_type": "fragment"
    }
   },
   "source": [
    "| Resource | Security<span title=\"See University Policy 4-004C for definitions and explanations of restricted and sensitive data\"><sup>1</sup></span> | Collaborate<span title=\"with research groups outside of the University\"><sup>2</sup></span> | Backup | Max file size | Max allocated space | File type | Cost |\n",
    "| --- | --- | --- | --- | --- | --- | --- | --- | --- |\n",
    "| **[REDCap](https://redcap01.brisc.utah.edu/ccts/redcap/)** | Restricted | yes | Yes | na | unlimited | any | free | \n",
    "| **[LabArchives](http://campusguides.lib.utah.edu/labarchives)** | Sensitive | yes | Yes | 4GB | unlimited | any | free | \n",
    "| **[CHPC Group Space](http://campusguides.lib.utah.edu/ld.php?content_id=33672291)** | Sensitive | ?? | Upon request | na | na | ?? | \\$150/TB |\n",
    "| **[CHPC Archive](http://campusguides.lib.utah.edu/ld.php?content_id=33672291)** | Sensitive | ?? | Yes | na | na | ?? | \\$120/TB | \n",
    "| **[UBox](http://box.utah.edu/)** | Restricted | yes | Yes | 15GB | 1TB | See [Link](https://community.box.com/t5/How-to-Guides-for-Managing/What-file-types-and-fonts-are-supported-by-Box-s-Content-Preview/ta-p/327) | free | \n",
    "| **[Google Drive](http://gcloud.utah.edu/)** | Sensitive | yes | yes | See [FAQ](https://support.google.com/drive/answer/37603?hl=en&amp;ref_topic=7000756) | unlimited | See [FAQ](https://support.google.com/drive/answer/37603?hl=en&amp;ref_topic=7000756) | free | \n",
    "\n",
    "The CHPC also provides tools for secure large file transfer such as [Globus](https://www.chpc.utah.edu/documentation/software/globus.php). The table above was adapted from a handout created by Daureen Nesdill (Data Management Librarian at Marriott Library)."
   ]
  },
  {
   "cell_type": "markdown",
   "metadata": {
    "slideshow": {
     "slide_type": "subslide"
    }
   },
   "source": [
    "### What are important considerations for creating backups? "
   ]
  },
  {
   "cell_type": "markdown",
   "metadata": {
    "slideshow": {
     "slide_type": "fragment"
    }
   },
   "source": [
    "This section draws from DataONE's [Education Module Lesson 6](https://www.dataone.org/sites/all/documents/education-modules/handouts/L06_DataProtection_Handout.pdf).\n",
    "\n",
    "* Are there **existing policies** that might affect how and when you do backups? Do you need to create **backups of the backups**? What will happen to your backups when **funding ceases, the project ends, or staff leave**?\n",
    "* **How often** should you do backups? Will backups be **manual or automatic**?\n",
    "* Should you do **partial or full** backups? What will you do with **non-digital content**?\n",
    "* **Where** will you backup your files?\n",
    "* How will you **verify** that a backup has been performed successfully?\n",
    "* **How long** will you keep your backups?\n",
    "* How do you **recover files** from your backup? Can you read data off of **older backups**? How will outdated data be **disposed of**?"
   ]
  },
  {
   "cell_type": "markdown",
   "metadata": {
    "slideshow": {
     "slide_type": "subslide"
    }
   },
   "source": [
    "### The 3-2-1 Rule\n",
    "The section draws from Peter Krogh's [Backup Overview](http://dpbestflow.org/node/262).\n",
    "\n",
    "* **3** copies of any important file (a primary and two backups)\n",
    "* **2** different media types (such as hard drive and optical media), to protect against different types of hazards.\n",
    "* **1** copy should be stored offsite (or at least offline)."
   ]
  },
  {
   "cell_type": "markdown",
   "metadata": {
    "slideshow": {
     "slide_type": "slide"
    }
   },
   "source": [
    "## Exercise\n",
    "**Organize your primary workspace**\n",
    "1. Inventory what project files you have. \n",
    "2. For a particular project, decide on a naming convention and implement it. \n",
    "3. Look at your file formats. Are you future-proofing? \n",
    "4. Create a README file for that project. For suggestions, see [Wikipedia](https://en.wikipedia.org/wiki/README) or [GitHub](https://guides.github.com/features/wikis/#Formatting-a-readme).\n",
    "\n",
    "**Develop a backup plan**\n",
    "1. Remember the 3-2-1 rule. \n",
    "2. Find existing policies or create one for yourself. "
   ]
  },
  {
   "cell_type": "markdown",
   "metadata": {
    "slideshow": {
     "slide_type": "slide"
    }
   },
   "source": [
    "## Extra Reading for Fun \n",
    "* Manes S. [README? Sure--before I buy!](https://login.ezproxy.lib.utah.edu/login?url=http://search.ebscohost.com/login.aspx?direct=true&AuthType=ip,uid&db=aph&bquery=JN+%26quot%3bPCWorld%26quot%3b+AND+DT+19961101+AND+readme&type=1&site=ehost-live). PCWorld [serial on the Internet]. (1996, Nov), [cited July 13, 2017]: 366. \n",
    "* Library of Congress' [Recommended Formats Statement](https://www.loc.gov/preservation/resources/rfs/)"
   ]
  }
 ],
 "metadata": {
  "celltoolbar": "Slideshow",
  "kernelspec": {
   "display_name": "Python 3",
   "language": "python",
   "name": "python3"
  },
  "language_info": {
   "codemirror_mode": {
    "name": "ipython",
    "version": 3
   },
   "file_extension": ".py",
   "mimetype": "text/x-python",
   "name": "python",
   "nbconvert_exporter": "python",
   "pygments_lexer": "ipython3",
   "version": "3.5.2"
  }
 },
 "nbformat": 4,
 "nbformat_minor": 2
}
