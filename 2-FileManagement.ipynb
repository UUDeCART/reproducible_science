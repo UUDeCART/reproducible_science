{
 "cells": [
  {
   "cell_type": "markdown",
   "metadata": {},
   "source": [
    "# File Management\n",
    "\n",
    "![filenaming](http://www.phdcomics.com/comics/archive/phd101212s.gif)\n",
    "From \"[Piled Higher and Deeper](http://www.phdcomics.com)\" by Jorge Cham"
   ]
  },
  {
   "cell_type": "markdown",
   "metadata": {},
   "source": [
    "---\n",
    "## Organizing Projects\n",
    "This section comes from Karl Broman's [steps toward reproducible research](http://kbroman.org/steps2rr/pages/organize.html)\n",
    "\n",
    "* Encapsulate everything in one directory\n",
    "* Separate raw data from derived data\n",
    "* Separate the data from the code \n",
    "* Use relative paths\n",
    "* Choose file names carefully -- more on that in the following section\n",
    "* Avoid using \"final\" in a file name\n",
    "* Write ReadMe files"
   ]
  },
  {
   "cell_type": "markdown",
   "metadata": {},
   "source": [
    "---\n",
    "## File Naming\n",
    "This section comes from Stanford Library's [data best practices](https://library.stanford.edu/research/data-management-services/data-best-practices/best-practices-file-naming)\n",
    "\n",
    "### Basic Information\n",
    "\n",
    "* Project or experiment name or acronym\n",
    "* Location/spatial coordinates\n",
    "* Researcher name/initials\n",
    "* Date or date range of experiment\n",
    "* Type of data\n",
    "* Conditions\n",
    "* Version number of file\n",
    "* Three-letter file extension for application-specific files\n",
    "\n",
    "### Tips\n",
    "* For dates, use YYYYMMDD or YYMMDD.\n",
    "* Keep the file names short! \n",
    "* Avoid special characters. \n",
    "* When numbering, use leading zeros. \n",
    "* Do not use spaces. \n",
    "* Do use underscores, dashes, or CamelCase."
   ]
  },
  {
   "cell_type": "markdown",
   "metadata": {},
   "source": [
    "---\n",
    "## File Formats"
   ]
  },
  {
   "cell_type": "markdown",
   "metadata": {},
   "source": [
    "## Version Control & Provenance"
   ]
  },
  {
   "cell_type": "markdown",
   "metadata": {},
   "source": [
    "## Storage Options"
   ]
  },
  {
   "cell_type": "markdown",
   "metadata": {},
   "source": [
    "## Documenting Your Workflow"
   ]
  }
 ],
 "metadata": {
  "kernelspec": {
   "display_name": "Python 3",
   "language": "python",
   "name": "python3"
  },
  "language_info": {
   "codemirror_mode": {
    "name": "ipython",
    "version": 3
   },
   "file_extension": ".py",
   "mimetype": "text/x-python",
   "name": "python",
   "nbconvert_exporter": "python",
   "pygments_lexer": "ipython3",
   "version": "3.5.2"
  }
 },
 "nbformat": 4,
 "nbformat_minor": 2
}
