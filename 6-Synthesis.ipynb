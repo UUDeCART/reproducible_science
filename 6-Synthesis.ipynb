{
 "cells": [
  {
   "cell_type": "markdown",
   "metadata": {
    "slideshow": {
     "slide_type": "slide"
    }
   },
   "source": [
    "# Module 6: Putting It All Together (30 minutes)\n",
    "![wordle](https://shirl0207.files.wordpress.com/2016/09/wordle_20160923.png)"
   ]
  },
  {
   "cell_type": "markdown",
   "metadata": {
    "slideshow": {
     "slide_type": "slide"
    }
   },
   "source": [
    "## Synthesize Your Workflow \n",
    "\n",
    "### Pre-class work\n",
    "\n",
    "* Organize your project and files (Module 2)\n",
    "* Organize your data (Module 3)\n",
    "* Make use of a tool (Module 4)\n",
    "* Prepare to share your work (Module 5) \n",
    "* Be ready to describe your workflow (see example in Module 1)\n",
    "\n",
    "**Bonus**: create a visualization of it"
   ]
  },
  {
   "cell_type": "markdown",
   "metadata": {
    "slideshow": {
     "slide_type": "slide"
    }
   },
   "source": [
    "## In-class show and/or tell \n",
    "* Max 5 minute lightning talk about your workflow \n",
    "* Your thoughts on the process of creating or refining one\n",
    "* A major takeaway from this course"
   ]
  }
 ],
 "metadata": {
  "celltoolbar": "Slideshow",
  "kernelspec": {
   "display_name": "Python 3",
   "language": "python",
   "name": "python3"
  },
  "language_info": {
   "codemirror_mode": {
    "name": "ipython",
    "version": 3
   },
   "file_extension": ".py",
   "mimetype": "text/x-python",
   "name": "python",
   "nbconvert_exporter": "python",
   "pygments_lexer": "ipython3",
   "version": "3.5.2"
  }
 },
 "nbformat": 4,
 "nbformat_minor": 2
}
