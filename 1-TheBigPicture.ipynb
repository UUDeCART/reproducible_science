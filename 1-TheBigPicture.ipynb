{
 "cells": [
  {
   "cell_type": "markdown",
   "metadata": {
    "slideshow": {
     "slide_type": "slide"
    }
   },
   "source": [
    "# Module 1: The Big Picture (2 hours)\n",
    "\n",
    "\"[Trouble for Science](https://xkcd.com/1574/)\" (left) and \"[Machine Learning](https://xkcd.com/1838/)\" (right) from xkcd by Randall Munroe\n",
    "\n",
    "<table>\n",
    "<tr>\n",
    "<td><img alt=\"Trouble for Science\" src=\"https://imgs.xkcd.com/comics/trouble_for_science.png\" height=\"400px\" /></td>\n",
    "<td><img alt=\"Machine Learning\" src=\"https://imgs.xkcd.com/comics/machine_learning.png\" height=\"400px\" /></td>\n",
    "</tr>\n",
    "</table>"
   ]
  },
  {
   "cell_type": "markdown",
   "metadata": {
    "slideshow": {
     "slide_type": "slide"
    }
   },
   "source": [
    "## Research Life Cycles\n",
    "\n",
    "<table>\n",
    "<tr> \n",
    "<th>Grants</th>\n",
    "<th>Data</th>\n",
    "</tr>\n",
    "<tr>\n",
    "<td><img src=\"http://www.weber.edu/wsuimages/OSP/NewSite/33.jpg\" alt=\"grantcycle\" style=\"height: 450px;\" /><br />From [Office of Sponsored Projects](http://osp.utah.edu/grant-life-cycle/)</td>\n",
    "<td><img alt=\"data_lifecycle\" src=\"https://library.sydney.edu.au/research/data-management/images/xResearch_data_lifecycle_final_20150827.png.pagespeed.ic.VG8oRep6aH.png\" style=\"height: 450px;\" /><br />From [University of Sydney Library](https://library.sydney.edu.au/research/data-management/research-data-management.html)</td>\n",
    "</tr>\n",
    "</table>"
   ]
  },
  {
   "cell_type": "markdown",
   "metadata": {
    "slideshow": {
     "slide_type": "subslide"
    }
   },
   "source": [
    "From [Reproducibility2020: Progress and priorities](http://dx.doi.org/10.12688/f1000research.11334.1)\n",
    "<center><img src=\"https://f1000researchdata.s3.amazonaws.com/manuscripts/12234/79954f9f-f381-48bc-a639-183aaa87c94b_figure1.gif\" alt=\"Many opportunities exist to improve reproducibility across the research life cycle.\" /></center>"
   ]
  },
  {
   "cell_type": "markdown",
   "metadata": {
    "slideshow": {
     "slide_type": "slide"
    }
   },
   "source": [
    "## What is reproducibility? "
   ]
  },
  {
   "cell_type": "markdown",
   "metadata": {
    "slideshow": {
     "slide_type": "fragment"
    }
   },
   "source": [
    "This section draws from the Wikipedia article on [Reproducibility](https://en.wikipedia.org/wiki/Reproducibility).\n",
    "\n",
    ">**Reproducibility** is the ability of an entire analysis of an experiment or study to be duplicated, either by the same researcher or by someone else working independently, whereas reproducing an experiment is called replicating it. Reproducibility and replicability together are among the main principles of the scientific method. \n",
    "\n",
    ">The term **reproducible research** refers to the idea that the ultimate product of academic research is the paper along with the laboratory notebooks and full computational environment used to produce the results in the paper such as the code, data, etc. that can be used to reproduce the results and create new work based on the research."
   ]
  },
  {
   "cell_type": "markdown",
   "metadata": {
    "slideshow": {
     "slide_type": "subslide"
    }
   },
   "source": [
    "### Breaking down \"reproducible research\"\n",
    "This section draws from Victoria Stodden's [Resolving Irreproducibility in Empirical and Computational Research](http://bulletin.imstat.org/2013/11/resolving-irreproducibility-in-empirical-and-computational-research/)\n",
    "\n",
    "* **Empirical reproducibility**\n",
    "* **Computational reproducibility**"
   ]
  },
  {
   "cell_type": "markdown",
   "metadata": {
    "slideshow": {
     "slide_type": "notes"
    }
   },
   "source": [
    "Notes\n",
    "* **Empirical reproducibility**: traditional scientific notion of experimental researchers capturing descriptive information about (non-computational) aspects of their research protocols and methods \n",
    "* **Computational reproducibility**: the computational details and other information necessary for others to replicate the findings"
   ]
  },
  {
   "cell_type": "markdown",
   "metadata": {
    "slideshow": {
     "slide_type": "subslide"
    }
   },
   "source": [
    "### Another way to define it\n",
    "This section draws from Goodman, et al. [What does research reproducibility mean?](http://stm.sciencemag.org.ezproxy.lib.utah.edu/content/8/341/341ps12.full)\n",
    "\n",
    "* **Methods reproducibility**\n",
    "* **Results reproducibility** (aka replicability)\n",
    "  - **Robustness**\n",
    "  - **Generalizability** (aka transportability)\n",
    "* **Inferential reproducibility**"
   ]
  },
  {
   "cell_type": "markdown",
   "metadata": {
    "slideshow": {
     "slide_type": "notes"
    }
   },
   "source": [
    "Notes\n",
    "* **Methods reproducibility**: the ability to implement, as exactly as possible, the experimental and computational procedures, with the same data and tools, to obtain the same results\n",
    "* **Results reproducibility** (aka replicability): the production of corroborating results in a new study, having followed the same experimental methods\n",
    "  - **Robustness**: the stability of experimental conclusions to variations in either baseline assumptions or experimental procedures\n",
    "  - **Generalizability** (aka transportability): the persistence of an effect in settings different from and outside of an experimental framework\n",
    "* **Inferential reproducibility**: the making of knowledge claims of similar strength from a study replication or reanalysis"
   ]
  },
  {
   "cell_type": "markdown",
   "metadata": {
    "slideshow": {
     "slide_type": "subslide"
    }
   },
   "source": [
    "### Maybe we need more nuanced terms based on who's doing the experimenting... \n",
    "This section draws from ACM's [Artifact Review and Badging](https://www.acm.org/publications/policies/artifact-review-badging).\n",
    "* **Repeatability**: Same team, same experimental setup\n",
    "* **Replicability**: Different team, same experimental setup\n",
    "* **Reproducibility**: Different team, different experimental setup"
   ]
  },
  {
   "cell_type": "markdown",
   "metadata": {
    "slideshow": {
     "slide_type": "slide"
    }
   },
   "source": [
    "## Is there a crisis?? \n",
    "Let's take a poll."
   ]
  },
  {
   "cell_type": "code",
   "execution_count": 2,
   "metadata": {
    "slideshow": {
     "slide_type": "fragment"
    }
   },
   "outputs": [
    {
     "data": {
      "image/jpeg": "[encoded data removed]",
      "text/html": [
       "\n",
       "        <iframe\n",
       "            width=\"600\"\n",
       "            height=\"350\"\n",
       "            src=\"https://www.youtube.com/embed/j7K3s_vi_1Y\"\n",
       "            frameborder=\"0\"\n",
       "            allowfullscreen\n",
       "        ></iframe>\n",
       "        "
      ],
      "text/plain": [
       "<IPython.lib.display.YouTubeVideo at 0x7efff8273128>"
      ]
     },
     "execution_count": 2,
     "metadata": {},
     "output_type": "execute_result"
    }
   ],
   "source": [
    "from IPython.display import YouTubeVideo\n",
    "YouTubeVideo(\"j7K3s_vi_1Y\", width=600, height=350)"
   ]
  },
  {
   "cell_type": "markdown",
   "metadata": {
    "slideshow": {
     "slide_type": "subslide"
    }
   },
   "source": [
    "### Answer: Depends on who you ask\n",
    "From Nature News' [1,500 scientists lift the lid on reproducibility](http://www.nature.com/news/1-500-scientists-lift-the-lid-on-reproducibility-1.19970)\n",
    "<center><img src=\"http://www.nature.com/polopoly_fs/7.36716.1469695923!/image/reproducibility-graphic-online1.jpeg_gen/derivatives/landscape_630/reproducibility-graphic-online1.jpeg\" /></center>\n",
    "\n",
    "Side note: the Wikipedia article on the [replication crisis](https://en.wikipedia.org/wiki/Replication_crisis) does a decent job pulling together the current state of things."
   ]
  },
  {
   "cell_type": "markdown",
   "metadata": {
    "slideshow": {
     "slide_type": "subslide"
    }
   },
   "source": [
    "From Nature News' [1,500 scientists lift the lid on reproducibility](http://www.nature.com/news/1-500-scientists-lift-the-lid-on-reproducibility-1.19970)\n",
    "<table>\n",
    "<tr>\n",
    "<td><img src=\"http://www.nature.com/polopoly_fs/7.36719.1464174488!/image/reproducibility-graphic-online4.jpg_gen/derivatives/landscape_630/reproducibility-graphic-online4.jpg\" width=\"500px\" /></td>\n",
    "<td><img src=\"http://www.nature.com/polopoly_fs/7.36727.1464174506!/image/reproducibility-graphic-online5.jpg_gen/derivatives/landscape_630/reproducibility-graphic-online5.jpg\" width=\"500px\" /></td>\n",
    "</tr>\n",
    "</table>"
   ]
  },
  {
   "cell_type": "markdown",
   "metadata": {
    "slideshow": {
     "slide_type": "subslide"
    }
   },
   "source": [
    "### Example: Estimating the Reproducibility of Psychological Science \n",
    "\n",
    "Open Science Collaboration. (2015). Estimating the reproducibility of psychological science. Science, 349(6251), aac4716. Doi: [10.1126/science.aac4716](https://login.ezproxy.lib.utah.edu/login?url=http://dx.doi.org/10.1126/science.aac4716)\n",
    "* Over 270 contributors worked on 100 replication studies based on studies from 3 psychology journals\n",
    "* 97% of original studies reported statistically significant results\n",
    "* 36% of replication studies reported statistically significant results "
   ]
  },
  {
   "cell_type": "markdown",
   "metadata": {
    "slideshow": {
     "slide_type": "notes"
    }
   },
   "source": [
    "**Abstract**: Reproducibility is a defining feature of science, but the extent to which it characterizes current research is unknown. We conducted replications of 100 experimental and correlational studies published in three psychology journals using high-powered designs and original materials when available. Replication effects (Mr = .197, SD = .257) were half the magnitude of original effects (Mr = .403, SD = .188), representing a substantial decline. Ninety-seven percent of original studies had significant results (p < .05). Thirty-six percent of replications had significant results; 47% of original effect sizes were in the 95% confidence interval of the replication effect size; 39% of effects were subjectively rated to have replicated the original result; and, if no bias in original results is assumed, combining original and replication results left 68% with significant effects. Correlational tests suggest that replication success was better predicted by the strength of original evidence than by characteristics of the original and replication teams."
   ]
  },
  {
   "cell_type": "markdown",
   "metadata": {
    "slideshow": {
     "slide_type": "subslide"
    }
   },
   "source": [
    "### Additional examples of irreproducible research\n",
    "\n",
    "* Cold fusion (see [1](https://en.wikipedia.org/wiki/Cold_fusion), [2](https://en.wikipedia.org/wiki/University_of_Utah_College_of_Science#History), [3](http://search.ebscohost.com.ezproxy.lib.utah.edu/login.aspx?direct=true&db=aph&bquery=JN+%26quot%3bNew+Scientist%26quot%3b+AND+DT+20030322+AND+%26quot%3bLost+in+Limbo%26quot%3b&type=0&site=ehost-live)) --in 1989 two chemists claimed to have discovered cold fusion and a team of physicists couldn't replicate their findings. \n",
    "\n",
    "* [Retraction Watch](http://retractionwatch.com/) --blog that keeps track of \"retractions as a window into the scientific process\""
   ]
  },
  {
   "cell_type": "markdown",
   "metadata": {
    "slideshow": {
     "slide_type": "subslide"
    }
   },
   "source": [
    "### Some good news: [Cancer studies pass reproducibility test](http://www.sciencemag.org/news/2017/06/cancer-studies-pass-reproducibility-test)\n",
    "\n",
    "**[Reproducibility Project: Cancer Biology](https://osf.io/e81xl/)**: a collaboration between Science Exchange and the Center for Open Science\n",
    "* Each paper has a Registered Report (peer reviewed and published prior to data collection)\n",
    "* Results are then published as a Replication Study.\n",
    "* The aim of the project is to provide evidence about reproducibility and to identify the factors that influence reproducibility more generally. \n",
    "* To date, 4 of the studies have reproduced important parts of the original papers, 1 study has not, and 2 studies could not be interpreted. "
   ]
  },
  {
   "cell_type": "markdown",
   "metadata": {
    "slideshow": {
     "slide_type": "slide"
    }
   },
   "source": [
    "## What is research misconduct?"
   ]
  },
  {
   "cell_type": "markdown",
   "metadata": {
    "slideshow": {
     "slide_type": "fragment"
    }
   },
   "source": [
    "**Defined under Section IV.H of the University's [Policy on Research Misconduct](http://regulations.utah.edu/research/7-001.php):**\n",
    "\n",
    "\"Misconduct\" or \"Misconduct in Research\" means fabrication, falsification, plagiarism, or other practices that seriously deviate from those practices that are commonly accepted within the research community for proposing, conducting, or reporting research. It does not include honest error or honest difference in interpretations or judgments of data."
   ]
  },
  {
   "cell_type": "markdown",
   "metadata": {
    "slideshow": {
     "slide_type": "notes"
    }
   },
   "source": [
    "1. Fabrication is making up results and recording or reporting the fabricated results.\n",
    "2. Falsification is manipulating research materials, equipment, or processes, or changing or omitting data or results such that the research is not accurately represented in the research record.\n",
    "3. Plagiarism is the appropriation of another person's ideas, processes, results, or words without giving appropriate credit and without specific approval, including those obtained through confidential review of others' research proposals and manuscripts."
   ]
  },
  {
   "cell_type": "markdown",
   "metadata": {
    "slideshow": {
     "slide_type": "subslide"
    }
   },
   "source": [
    "### Take a moment to read the whole policy \n",
    "http://regulations.utah.edu/research/7-001.php\n",
    "\n",
    "* Is there anything you learned that you didn't know before? \n",
    "* Anything surprising? \n",
    "* Did it clarify any questions for you? "
   ]
  },
  {
   "cell_type": "markdown",
   "metadata": {
    "slideshow": {
     "slide_type": "subslide"
    }
   },
   "source": [
    "### Recent example of research misconduct\n",
    "\n",
    "From Retraction Watch, [Volunteer researcher faked weeks’ worth of data](http://retractionwatch.com/2017/07/14/research-volunteer-faked-weeks-worth-data/)\n",
    "> A volunteer researcher at Florida Atlantic University fabricated the results of mouse experiments over a 14-day period in June, 2016. According to the [Office of Research Integrity], Alec Mirchandani made up the results of behavioral experiments to make it seem as if he had done the work, and falsified animal transfer logs, which affected research supported by the National Institute of Mental Health.\n",
    "\n",
    "Consequences? \n",
    "> [In a Voluntary Settlement Agreement with ORI], for the next two years, Mirchandani must be supervised if he conducts any research supported by the U.S. Public Health Service (PHS), which includes the National Institutes of Health. He’s also not eligible to serve on PHS peer review committees during that time."
   ]
  },
  {
   "cell_type": "markdown",
   "metadata": {
    "slideshow": {
     "slide_type": "slide"
    }
   },
   "source": [
    "## Guidelines and Recommendations"
   ]
  },
  {
   "cell_type": "markdown",
   "metadata": {
    "slideshow": {
     "slide_type": "subslide"
    }
   },
   "source": [
    "### National Academies of Sciences, Engineering, and Medicine \n",
    "\n",
    "**[Fostering Integrity in Research](https://doi.org/10.17226/21896)** identifies best practices in research and recommends practical options for discouraging and addressing research misconduct and detrimental research practices.\n",
    "\n",
    "<center><img src=\"https://www.nap.edu/cover/21896/450\" width=\"400px\" /></center>"
   ]
  },
  {
   "cell_type": "markdown",
   "metadata": {
    "slideshow": {
     "slide_type": "subslide"
    }
   },
   "source": [
    "### NSF\n",
    "**[A Framework for Ongoing and Future National Science Foundation Activities to Improve Reproducibility, Replicability, and Robustness in Funded Research](https://www.nsf.gov/attachments/134722/public/Reproducibility_NSFPlanforOMB_Dec31_2014.pdf)**\n",
    "\n",
    "NSF is addressing issues of reproducibility, replicability, and robustness of research at both the agency-wide level and within all directorates as appropriate. \n",
    "\n",
    "1. scientific milieu and question formulation\n",
    "2. data collection, sharing, and curation\n",
    "3. instrumentation, models and interpretation of findings\n",
    "4. research outputs\n",
    "5. questions of science reproducibility, replicability, and robustness"
   ]
  },
  {
   "cell_type": "markdown",
   "metadata": {
    "slideshow": {
     "slide_type": "subslide"
    }
   },
   "source": [
    "### NIH \n",
    "**[Rigor and Reproducibility](https://grants.nih.gov/reproducibility/index.htm)**\n",
    "\n",
    "<center><a href=\"https://grants.nih.gov/reproducibility/documents/grant-guideline.pdf\"><img src=\"https://grants.nih.gov/reproducibility/documents/grant-guideline.gif\" /></a></center>\n",
    "\n",
    "One page guide: http://grants.nih.gov/grants/RigorandReproducibilityChart508.pdf\n",
    "\n"
   ]
  },
  {
   "cell_type": "markdown",
   "metadata": {
    "slideshow": {
     "slide_type": "subslide"
    }
   },
   "source": [
    "**[Principles and Guidelines for Reporting Preclinical Research](https://www.nih.gov/research-training/rigor-reproducibility/principles-guidelines-reporting-preclinical-research)**\n",
    "\n",
    "NIH held a joint workshop in June 2014 with the Nature Publishing Group and Science on the issue of reproducibility and rigor of research findings, with journal editors representing over 30 basic/preclinical science journals in which NIH-funded investigators have most often published. The journal editors came to consensus on a set of principles to facilitate these goals, which a considerable number of journals have agreed to [endorse](https://www.nih.gov/sites/default/files/research-training/initiatives/reproducibility/rigor-reproducibility-endorsements.pdf).\n",
    "1. Rigorous statistical analysis\n",
    "2. Transparency in reporting: standards, replicates, statistics, randomization, blinding, sample-size estimation, inclusion/exclusion criteria\n",
    "3. Data and material sharing\n",
    "4. Considerations of refutations\n",
    "5. Consider establishing best practice guidelines for image-based data and description of biological material with enough information to uniquely identify the reagents"
   ]
  },
  {
   "cell_type": "markdown",
   "metadata": {
    "slideshow": {
     "slide_type": "subslide"
    }
   },
   "source": [
    "### Reproducibility Enhancement Principles (REP)\n",
    "This section draws from Victoria Stodden, et. al [Enhancing reproducibility for computational methods](http://science.sciencemag.org.ezproxy.lib.utah.edu/content/354/6317/1240.full)\n",
    "\n",
    "* Share data, software, workflows, and details of the computational environment that generate published findings in open trusted repositories.\n",
    "* Persistent links should appear in the published article and include a permanent identifier for data, code, and digital artifacts upon which the results depend. \n",
    "* To enable credit for shared digital scholarly objects, citation should be standard practice.\n",
    "* To facilitate reuse, adequately document digital scholarly artifacts.\n",
    "* Use Open Licensing when publishing digital scholarly objects.\n",
    "* Journals should conduct a reproducibility check as part of the publication process and should enact the Transparency and Openness Promotion (TOP) standards at level 2 or 3.\n",
    "* To better enable reproducibility across the scientific enterprise, funding agencies should instigate new research programs and pilot studies."
   ]
  },
  {
   "cell_type": "markdown",
   "metadata": {
    "slideshow": {
     "slide_type": "subslide"
    }
   },
   "source": [
    "From Brian Nosek, et al. [Promoting an open research culture](http://science.sciencemag.org.ezproxy.lib.utah.edu/content/348/6242/1422.full)\n",
    "<center><img src=\"https://d2ufo47lrtsv5s.cloudfront.net/content/sci/348/6242/1422/F1.large.jpg\" width=\"850px\"/></center>"
   ]
  },
  {
   "cell_type": "markdown",
   "metadata": {
    "slideshow": {
     "slide_type": "slide"
    }
   },
   "source": [
    "## Practical tips to get started\n",
    "This section draws from Christopher Gandrud's [Getting Started with Reproducible Research](https://www.r-bloggers.com/getting-started-with-reproducible-research-a-chapter-from-my-new-book/)\n",
    "\n",
    "* Document everything! How did you gather, analyze, and present the data and results? \n",
    "* Everything is a (text) file. Think \"future-proofing.\" \n",
    "* All files should be human readable. Comment your code frequently. \n",
    "* Explicitly tie your files together. \n",
    "* Have a plan to organize, store, and make your files available."
   ]
  },
  {
   "cell_type": "markdown",
   "metadata": {
    "slideshow": {
     "slide_type": "slide"
    }
   },
   "source": [
    "## Example Workflow \n",
    "From Christopher Gandrud's [Getting Started with Reproducible Research](https://www.r-bloggers.com/getting-started-with-reproducible-research-a-chapter-from-my-new-book/)\n",
    "<center><img src=\"https://4.bp.blogspot.com/-u3BaetbDxtM/UeR4f8924nI/AAAAAAAAGlU/fnl_KfDSSb8/s1600/Workflow.png\" /></center>"
   ]
  },
  {
   "cell_type": "markdown",
   "metadata": {
    "slideshow": {
     "slide_type": "slide"
    }
   },
   "source": [
    "## Additional Reading\n",
    "* [Why Most Published Research Findings Are False](http://journals.plos.org/plosmedicine/article?id=10.1371/journal.pmed.0020124)\n",
    "* [How to Make More Published Research True](http://journals.plos.org/plosmedicine/article?id=10.1371/journal.pmed.1001747) \n",
    "* [Nature Special: Challenges in irreproducible research](https://login.ezproxy.lib.utah.edu/login?url=http://www.nature.com/news/reproducibility-1.17552)\n",
    "* [Science Isn't Broken](https://fivethirtyeight.com/features/science-isnt-broken/#part1)\n",
    "\n",
    "\n",
    "## Additional Resources\n",
    "* [Reproducibility of Research](http://campusguides.lib.utah.edu/reproducibility)\n",
    "* [CCTS Study Design & Biostatistics Center](http://medicine.utah.edu/ccts/sdbc/)\n",
    "* [Creative Commons Licenses](https://creativecommons.org/licenses/)\n",
    "* [Conference Materials from Research Reproducibility 2016](https://library.med.utah.edu/e-channel/portfolio/research-reproducibility-conference/) \n",
    "\n",
    "## Funding Opportunities\n",
    "* [BD2K](https://commonfund.nih.gov/bd2k)\n",
    "* [Center for Open Science Preregistration Challenge](https://cos.io/prereg/)"
   ]
  },
  {
   "cell_type": "markdown",
   "metadata": {
    "slideshow": {
     "slide_type": "slide"
    }
   },
   "source": [
    "## Exercise\n",
    "\n",
    "Start thinking about [Module 6: Putting It All Together](./6-Synthesis.ipynb)"
   ]
  }
 ],
 "metadata": {
  "celltoolbar": "Slideshow",
  "kernelspec": {
   "display_name": "Python 3",
   "language": "python",
   "name": "python3"
  },
  "language_info": {
   "codemirror_mode": {
    "name": "ipython",
    "version": 3
   },
   "file_extension": ".py",
   "mimetype": "text/x-python",
   "name": "python",
   "nbconvert_exporter": "python",
   "pygments_lexer": "ipython3",
   "version": "3.5.2"
  }
 },
 "nbformat": 4,
 "nbformat_minor": 2
}
