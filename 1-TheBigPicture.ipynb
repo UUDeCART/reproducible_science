{
 "cells": [
  {
   "cell_type": "markdown",
   "metadata": {
    "slideshow": {
     "slide_type": "slide"
    }
   },
   "source": [
    "# Module 1: The Big Picture (2 hours)\n",
    "\n",
    "\"Trouble for Science\" from [xkcd](https://xkcd.com/1574/) by Randall Munroe\n",
    "<img alt=\"troubleforscience\" src=\"https://imgs.xkcd.com/comics/trouble_for_science.png\" height=\"400px\" />"
   ]
  },
  {
   "cell_type": "markdown",
   "metadata": {
    "slideshow": {
     "slide_type": "slide"
    }
   },
   "source": [
    "## Research Life Cycles\n",
    "\n",
    "| Grants | Data |\n",
    "|---|---|\n",
    "| <img src=\"http://www.weber.edu/wsuimages/OSP/NewSite/33.jpg\" alt=\"grantcycle\" style=\"height: 450px;\" /><br />From [Office of Sponsored Projects](http://osp.utah.edu/grant-life-cycle/) | <img alt=\"data_lifecycle\" src=\"https://library.sydney.edu.au/research/data-management/images/xResearch_data_lifecycle_final_20150827.png.pagespeed.ic.VG8oRep6aH.png\" style=\"height: 450px;\" /><br />From [University of Sydney Library](https://library.sydney.edu.au/research/data-management/research-data-management.html) |"
   ]
  },
  {
   "cell_type": "markdown",
   "metadata": {
    "slideshow": {
     "slide_type": "subslide"
    }
   },
   "source": [
    "From [Reproducibility2020: Progress and priorities](http://dx.doi.org/10.12688/f1000research.11334.1)\n",
    "<img src=\"https://f1000researchdata.s3.amazonaws.com/manuscripts/12234/79954f9f-f381-48bc-a639-183aaa87c94b_figure1.gif\" alt=\"Many opportunities exist to improve reproducibility across the research life cycle.\" />"
   ]
  },
  {
   "cell_type": "markdown",
   "metadata": {
    "slideshow": {
     "slide_type": "slide"
    }
   },
   "source": [
    "## What is reproducibility? "
   ]
  },
  {
   "cell_type": "markdown",
   "metadata": {
    "slideshow": {
     "slide_type": "fragment"
    }
   },
   "source": []
  },
  {
   "cell_type": "markdown",
   "metadata": {
    "slideshow": {
     "slide_type": "subslide"
    }
   },
   "source": [
    "### Examples of irreproducible research\n",
    "\n",
    "Retraction Watch "
   ]
  },
  {
   "cell_type": "markdown",
   "metadata": {
    "slideshow": {
     "slide_type": "slide"
    }
   },
   "source": [
    "## What is research misconduct?"
   ]
  },
  {
   "cell_type": "markdown",
   "metadata": {
    "slideshow": {
     "slide_type": "fragment"
    }
   },
   "source": [
    "**Defined under Section IV.H of the University's Policy on Research Misconduct:**\n",
    "\n",
    "\"Misconduct\" or \"Misconduct in Research\" means fabrication, falsification, plagiarism, or other practices that seriously deviate from those practices that are commonly accepted within the research community for proposing, conducting, or reporting research. It does not include honest error or honest difference in interpretations or judgments of data.\n",
    "1. Fabrication is making up results and recording or reporting the fabricated results.\n",
    "2. Falsification is manipulating research materials, equipment, or processes, or changing or omitting data or results such that the research is not accurately represented in the research record.\n",
    "3. Plagiarism is the appropriation of another person's ideas, processes, results, or words without giving appropriate credit and without specific approval, including those obtained through confidential review of others' research proposals and manuscripts.\n",
    "\n",
    "**Take a moment to read the whole policy**: http://regulations.utah.edu/research/7-001.php"
   ]
  },
  {
   "cell_type": "markdown",
   "metadata": {
    "slideshow": {
     "slide_type": "slide"
    }
   },
   "source": [
    "## NIH/NSF guidelines on reproducibility"
   ]
  },
  {
   "cell_type": "markdown",
   "metadata": {
    "slideshow": {
     "slide_type": "slide"
    }
   },
   "source": [
    "## Practical Tips \n",
    "This section draws from Christopher Gandrud's [Getting Started with Reproducible Research](https://www.r-bloggers.com/getting-started-with-reproducible-research-a-chapter-from-my-new-book/)\n",
    "\n",
    "* Document everything! How did you gather, analyze, and present the data and results? \n",
    "* Everything is a (text) file. Think \"future-proofing.\" \n",
    "* All files should be human readable. Comment your code frequently. \n",
    "* Explicitly tie your files together. \n",
    "* Have a plan to organize, store, and make your files available."
   ]
  },
  {
   "cell_type": "markdown",
   "metadata": {
    "slideshow": {
     "slide_type": "slide"
    }
   },
   "source": [
    "## Example Workflow \n",
    "From Christopher Gandrud's [Getting Started with Reproducible Research](https://www.r-bloggers.com/getting-started-with-reproducible-research-a-chapter-from-my-new-book/)\n",
    "![workflow](https://4.bp.blogspot.com/-u3BaetbDxtM/UeR4f8924nI/AAAAAAAAGlU/fnl_KfDSSb8/s1600/Workflow.png)"
   ]
  }
 ],
 "metadata": {
  "celltoolbar": "Slideshow",
  "kernelspec": {
   "display_name": "Python 3",
   "language": "python",
   "name": "python3"
  },
  "language_info": {
   "codemirror_mode": {
    "name": "ipython",
    "version": 3
   },
   "file_extension": ".py",
   "mimetype": "text/x-python",
   "name": "python",
   "nbconvert_exporter": "python",
   "pygments_lexer": "ipython3",
   "version": "3.5.2"
  }
 },
 "nbformat": 4,
 "nbformat_minor": 2
}
