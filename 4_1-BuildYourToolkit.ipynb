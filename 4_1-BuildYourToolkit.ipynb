{
 "cells": [
  {
   "cell_type": "markdown",
   "metadata": {
    "slideshow": {
     "slide_type": "slide"
    }
   },
   "source": [
    "# Module 4, Part 1: Build Your Toolkit (2 hours)\n",
    "\"Tech Loops\" from [xkcd](https://xkcd.com/1579/) by Randall Munroe\n",
    "<img src=\"https://imgs.xkcd.com/comics/tech_loops.png\" width=\"600px\" />\n"
   ]
  },
  {
   "cell_type": "markdown",
   "metadata": {
    "slideshow": {
     "slide_type": "slide"
    }
   },
   "source": [
    "## Reproducible Data Analysis in Jupyter \n",
    "\n",
    "### Pre-class work \n",
    "\n",
    "Watch this [11-part video series](http://jakevdp.github.io/blog/2017/03/03/reproducible-data-analysis-in-jupyter/) by Jake Vanderplas, demonstrating a workflow using Python and Jupyter. Total time: 1:13:43"
   ]
  },
  {
   "cell_type": "code",
   "execution_count": 9,
   "metadata": {
    "slideshow": {
     "slide_type": "fragment"
    }
   },
   "outputs": [
    {
     "data": {
      "text/html": [
       "\n",
       "        <iframe\n",
       "            width=\"600\"\n",
       "            height=\"350\"\n",
       "            src=\"https://www.youtube.com/embed/?index=0&list=PLYCpMb24GpOC704uO9svUrihl-HY1tTJJ\"\n",
       "            frameborder=\"0\"\n",
       "            allowfullscreen\n",
       "        ></iframe>\n",
       "        "
      ],
      "text/plain": [
       "<IPython.lib.display.YouTubeVideo at 0x7f891deff8d0>"
      ]
     },
     "execution_count": 9,
     "metadata": {},
     "output_type": "execute_result"
    }
   ],
   "source": [
    "from IPython.display import YouTubeVideo\n",
    "def embed_video(index, playlist='PLYCpMb24GpOC704uO9svUrihl-HY1tTJJ'):\n",
    "    return YouTubeVideo('', index=index - 1, list=playlist, width=600, height=350)\n",
    "embed_video(1)"
   ]
  },
  {
   "cell_type": "markdown",
   "metadata": {
    "slideshow": {
     "slide_type": "subslide"
    }
   },
   "source": [
    "### In-class exercise (30 min)\n",
    "\n",
    "Pick a data analysis project you are already working on and try one of the methods in the videos\n",
    "1. Loading and Visualizing Data\n",
    "2. Further Data Exploration\n",
    "3. Version Control with Git & GitHub\n",
    "4. Working with Data and GitHub\n",
    "5. Creating a Python Package\n",
    "6. Unit Testing with PyTest\n",
    "7. Refactoring for Speed\n",
    "8. Debugging a Broken Function\n",
    "10. Further Data Exploration\n",
    "11. Cleaning-up the Notebook"
   ]
  },
  {
   "cell_type": "markdown",
   "metadata": {
    "slideshow": {
     "slide_type": "slide"
    }
   },
   "source": [
    "## Alternative to Python: R and RStudio \n",
    "\n",
    "\n",
    "\n",
    "<table>\n",
    "<tr>\n",
    "<td><a href=\"https://cran.rstudio.com/\"><img src=\"https://developer.r-project.org/Logo/Rlogo.svg\" width=\"150px\" /></a></td>\n",
    "<td><a href=\"https://www.rstudio.com/products/rstudio/download/\"><img src=\"https://www.rstudio.com/wp-content/uploads/2014/03/blue-250.png\" width=\"250px\" /></a></td>\n",
    "<td><img src=\"https://www.rstudio.com/wp-content/uploads/2015/10/rstudio.png\" width=\"300px\" /></td>\n",
    "<td><img src=\"https://www.rstudio.com/wp-content/uploads/2015/10/r-packages.png\" width=\"300px\" /></td>\n",
    "</tr>\n",
    "</table>\n",
    "\n",
    "### Resources\n",
    "\n",
    "* [Reproducible Research with R and RStudio](https://github.com/christophergandrud/Rep-Res-Book)\n",
    "* [R-bloggers](https://www.r-bloggers.com/)\n",
    "* [R Conferences](https://www.r-project.org/conferences.html)\n",
    "* [#rstats](http://twitter.com/hashtag/rstats)"
   ]
  },
  {
   "cell_type": "markdown",
   "metadata": {
    "slideshow": {
     "slide_type": "slide"
    }
   },
   "source": [
    "## Scientific Writing with LaTeX (and Markdown)\n",
    "\n",
    "<a href=\"http://www.latex-project.org/\"><img src=\"https://upload.wikimedia.org/wikipedia/commons/9/92/LaTeX_logo.svg\" width=\"300px\" /></a>\n",
    "\n",
    "### Resources\n",
    "\n",
    "* [LaTeX for the Health Sciences](http://campusguides.lib.utah.edu/LaTeXHealthSciences) --generally useful for anyone\n",
    "* [LaTeX Wikibook](https://en.wikibooks.org/wiki/LaTeX)\n",
    "* [UofU Thesis Template](http://ftp.math.utah.edu/pub/uuthesis/)"
   ]
  },
  {
   "cell_type": "markdown",
   "metadata": {
    "slideshow": {
     "slide_type": "subslide"
    }
   },
   "source": [
    "### Examples\n",
    "\n",
    "**Basic LaTeX document:**\n",
    "```\n",
    "\\documentclass{article}\n",
    "\\title{LaTeX 101}\n",
    "\\author{You}\n",
    "\\date{July 2017}\n",
    "\\begin{document}\n",
    "  \\maketitle\n",
    "  Hello world!\n",
    "\\end{document}\n",
    "```\n",
    "\n",
    "See a similar example in action on [Overleaf](https://www.overleaf.com/latex/examples/hello-world/mchkmshqjpjt)."
   ]
  },
  {
   "cell_type": "markdown",
   "metadata": {
    "slideshow": {
     "slide_type": "subslide"
    }
   },
   "source": [
    "**Annotating equations:**\n",
    "$$z = \\overbrace{\\underbrace{x}_\\text{real} + i\\underbrace{y}_\\text{imaginary}}^\\text{complex number}$$\n",
    "\n",
    "```\n",
    "$$\n",
    " z = \\overbrace{\n",
    "   \\underbrace{x}_\\text{real} + i\n",
    "   \\underbrace{y}_\\text{imaginary}\n",
    "  }^\\text{complex number}\n",
    "$$\n",
    "```\n",
    "\n",
    "A side note: the `$$...$$` syntax is depreciated in TeX but still used in other programs. The preferred syntax is `\\[...\\]` but sometimes interferes with Markdown. If you are curious to learn more, check out this [Survey of Syntax for Math in Markdown](https://github.com/cben/mathdown/wiki/math-in-markdown)."
   ]
  },
  {
   "cell_type": "markdown",
   "metadata": {
    "slideshow": {
     "slide_type": "subslide"
    }
   },
   "source": [
    "**Creating a matrix:**\n",
    "$$\n",
    "A_{m,n} = \n",
    " \\begin{pmatrix}\n",
    "  a_{1,1} & a_{1,2} & \\cdots & a_{1,n} \\\\\n",
    "  a_{2,1} & a_{2,2} & \\cdots & a_{2,n} \\\\\n",
    "  \\vdots  & \\vdots  & \\ddots & \\vdots  \\\\\n",
    "  a_{m,1} & a_{m,2} & \\cdots & a_{m,n} \n",
    " \\end{pmatrix}\n",
    "$$\n",
    "```\n",
    "$$\n",
    "A_{m,n} = \n",
    " \\begin{pmatrix}\n",
    "  a_{1,1} & a_{1,2} & \\cdots & a_{1,n} \\\\\n",
    "  a_{2,1} & a_{2,2} & \\cdots & a_{2,n} \\\\\n",
    "  \\vdots  & \\vdots  & \\ddots & \\vdots  \\\\\n",
    "  a_{m,1} & a_{m,2} & \\cdots & a_{m,n} \n",
    " \\end{pmatrix}\n",
    "$$\n",
    "```"
   ]
  },
  {
   "cell_type": "markdown",
   "metadata": {
    "slideshow": {
     "slide_type": "slide"
    }
   },
   "source": [
    "## Open Science Framework "
   ]
  },
  {
   "cell_type": "code",
   "execution_count": 10,
   "metadata": {
    "slideshow": {
     "slide_type": "fragment"
    }
   },
   "outputs": [
    {
     "data": {
      "image/jpeg": "[encoded data removed]",
      "text/html": [
       "\n",
       "        <iframe\n",
       "            width=\"600\"\n",
       "            height=\"350\"\n",
       "            src=\"https://www.youtube.com/embed/2TV21gOzfhw\"\n",
       "            frameborder=\"0\"\n",
       "            allowfullscreen\n",
       "        ></iframe>\n",
       "        "
      ],
      "text/plain": [
       "<IPython.lib.display.YouTubeVideo at 0x7f891dfd1908>"
      ]
     },
     "execution_count": 10,
     "metadata": {},
     "output_type": "execute_result"
    }
   ],
   "source": [
    "from IPython.display import YouTubeVideo\n",
    "YouTubeVideo(\"2TV21gOzfhw\", width=600, height=350)"
   ]
  },
  {
   "cell_type": "markdown",
   "metadata": {
    "slideshow": {
     "slide_type": "subslide"
    }
   },
   "source": [
    "![](https://cdn.cos.io/media/images/research_lifecycle.original.png)\n",
    "[Learn more](https://cos.io/our-products/open-science-framework/) and get started <a href=\"http://osf.io\">here</a>."
   ]
  },
  {
   "cell_type": "markdown",
   "metadata": {
    "slideshow": {
     "slide_type": "slide"
    }
   },
   "source": [
    "## LabArchives\n",
    "Follow the guide <a href=\"http://campusguides.lib.utah.edu/labarchives\">here</a> to get started."
   ]
  },
  {
   "cell_type": "code",
   "execution_count": 11,
   "metadata": {
    "slideshow": {
     "slide_type": "fragment"
    }
   },
   "outputs": [
    {
     "data": {
      "image/jpeg": "[encoded data removed]",
      "text/html": [
       "\n",
       "        <iframe\n",
       "            width=\"600\"\n",
       "            height=\"350\"\n",
       "            src=\"https://www.youtube.com/embed/2Jd4JOLImfI\"\n",
       "            frameborder=\"0\"\n",
       "            allowfullscreen\n",
       "        ></iframe>\n",
       "        "
      ],
      "text/plain": [
       "<IPython.lib.display.YouTubeVideo at 0x7f891806fd30>"
      ]
     },
     "execution_count": 11,
     "metadata": {},
     "output_type": "execute_result"
    }
   ],
   "source": [
    "from IPython.display import YouTubeVideo\n",
    "YouTubeVideo(\"2Jd4JOLImfI\", width=600, height=350)"
   ]
  },
  {
   "cell_type": "markdown",
   "metadata": {
    "slideshow": {
     "slide_type": "slide"
    }
   },
   "source": [
    "## VisTrails\n",
    "\n",
    "Demo. Download: https://www.vistrails.org/index.php/Main_Page \n",
    "\n",
    "See [notes](./notes-vistrails.md)."
   ]
  },
  {
   "cell_type": "markdown",
   "metadata": {
    "slideshow": {
     "slide_type": "slide"
    }
   },
   "source": [
    "## ReproZip\n",
    "\n",
    "Download: https://www.reprozip.org/ \n",
    "\n",
    "See [notes](./notes-reprozip.md)."
   ]
  },
  {
   "cell_type": "markdown",
   "metadata": {
    "slideshow": {
     "slide_type": "slide"
    }
   },
   "source": [
    "## Exercise\n",
    "Pick one of the tools and set up a project or workflow with it. "
   ]
  }
 ],
 "metadata": {
  "celltoolbar": "Slideshow",
  "kernelspec": {
   "display_name": "Python 3",
   "language": "python",
   "name": "python3"
  },
  "language_info": {
   "codemirror_mode": {
    "name": "ipython",
    "version": 3
   },
   "file_extension": ".py",
   "mimetype": "text/x-python",
   "name": "python",
   "nbconvert_exporter": "python",
   "pygments_lexer": "ipython3",
   "version": "3.5.2"
  }
 },
 "nbformat": 4,
 "nbformat_minor": 2
}
