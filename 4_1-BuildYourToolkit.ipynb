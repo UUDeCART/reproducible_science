{
 "cells": [
  {
   "cell_type": "markdown",
   "metadata": {},
   "source": [
    "# Build Your Toolkit, Part 1"
   ]
  },
  {
   "cell_type": "markdown",
   "metadata": {},
   "source": [
    "## Reproducible Data Analysis in Jupyter \n",
    "\n",
    "### Pre-class work ([Link](http://jakevdp.github.io/blog/2017/03/03/reproducible-data-analysis-in-jupyter/))\n",
    "Watch this 11-part video series by Jake Vanderplas, demonstrating a workflow using Python and Jupyter\n",
    "\n",
    "1. Loading and Visualizing Data\n",
    "2. Further Data Exploration\n",
    "3. Version Control with Git & GitHub\n",
    "4. Working with Data and GitHub\n",
    "5. Creating a Python Package\n",
    "6. Unit Testing with PyTest\n",
    "7. Refactoring for Speed\n",
    "8. Debugging a Broken Function\n",
    "9. Finding and Fixing a scikit-learn bug\n",
    "10. Further Data Exploration\n",
    "11. Cleaning-up the Notebook \n",
    "\n",
    "Total time: 1:13:43"
   ]
  },
  {
   "cell_type": "code",
   "execution_count": 1,
   "metadata": {},
   "outputs": [
    {
     "data": {
      "text/html": [
       "\n",
       "        <iframe\n",
       "            width=\"600\"\n",
       "            height=\"350\"\n",
       "            src=\"https://www.youtube.com/embed/?index=0&list=PLYCpMb24GpOC704uO9svUrihl-HY1tTJJ\"\n",
       "            frameborder=\"0\"\n",
       "            allowfullscreen\n",
       "        ></iframe>\n",
       "        "
      ],
      "text/plain": [
       "<IPython.lib.display.YouTubeVideo at 0x7f891dfb3c50>"
      ]
     },
     "execution_count": 1,
     "metadata": {},
     "output_type": "execute_result"
    }
   ],
   "source": [
    "from IPython.display import YouTubeVideo\n",
    "def embed_video(index, playlist='PLYCpMb24GpOC704uO9svUrihl-HY1tTJJ'):\n",
    "    return YouTubeVideo('', index=index - 1, list=playlist, width=600, height=350)\n",
    "embed_video(1)"
   ]
  },
  {
   "cell_type": "markdown",
   "metadata": {},
   "source": [
    "### Discussion\n",
    "\n",
    "### Exercise \n",
    "\n",
    "1. Pick a data analysis project you are already working on and try one of the methods in the videos"
   ]
  },
  {
   "cell_type": "markdown",
   "metadata": {},
   "source": [
    "---\n",
    "## R and RStudio "
   ]
  },
  {
   "cell_type": "markdown",
   "metadata": {},
   "source": [
    "--- \n",
    "## Open Science Framework and LabArchives"
   ]
  }
 ],
 "metadata": {
  "kernelspec": {
   "display_name": "Python 3",
   "language": "python",
   "name": "python3"
  },
  "language_info": {
   "codemirror_mode": {
    "name": "ipython",
    "version": 3
   },
   "file_extension": ".py",
   "mimetype": "text/x-python",
   "name": "python",
   "nbconvert_exporter": "python",
   "pygments_lexer": "ipython3",
   "version": "3.5.2"
  }
 },
 "nbformat": 4,
 "nbformat_minor": 2
}
